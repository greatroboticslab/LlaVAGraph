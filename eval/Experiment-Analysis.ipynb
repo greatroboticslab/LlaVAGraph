{
 "cells": [
  {
   "cell_type": "markdown",
   "id": "76a3e3fc-d810-4279-b358-5ac10e61dc33",
   "metadata": {},
   "source": [
    "# Experiment Analysis - 1/17/2025"
   ]
  },
  {
   "cell_type": "code",
   "execution_count": 1,
   "id": "fde3aa40-95fa-4b43-b53e-d204398c19b3",
   "metadata": {},
   "outputs": [],
   "source": [
    "import pandas as pd\n",
    "import matplotlib.pyplot as plt"
   ]
  },
  {
   "cell_type": "markdown",
   "id": "04d7846f-b96e-4ae7-8a64-bdff2f14c2aa",
   "metadata": {},
   "source": [
    "## Random Noise Results"
   ]
  },
  {
   "cell_type": "code",
   "execution_count": 2,
   "id": "42642419-8dfc-4d1f-89e1-3e47d1e51e0f",
   "metadata": {},
   "outputs": [],
   "source": [
    "noiseData = pd.read_csv(\"results/randomNoise.csv\")"
   ]
  },
  {
   "cell_type": "code",
   "execution_count": 3,
   "id": "afa66dfc-515f-4e3d-8b92-ada4ed068d8b",
   "metadata": {},
   "outputs": [
    {
     "data": {
      "text/plain": [
       "0.09584664536741214"
      ]
     },
     "execution_count": 3,
     "metadata": {},
     "output_type": "execute_result"
    }
   ],
   "source": [
    "noiseData[\"result\"].mean()"
   ]
  },
  {
   "cell_type": "markdown",
   "id": "63929bc7-2896-49a1-8fd7-598ea2d4a27b",
   "metadata": {},
   "source": [
    "## Sine Wave Results"
   ]
  },
  {
   "cell_type": "code",
   "execution_count": 4,
   "id": "0581542f-d6ad-43a1-aed0-62f5460f2b87",
   "metadata": {},
   "outputs": [],
   "source": [
    "sineData = pd.read_csv(\"results/sineWave.csv\")"
   ]
  },
  {
   "cell_type": "code",
   "execution_count": 5,
   "id": "7918e9b6-96a7-40e4-a766-3f6eb0acba7d",
   "metadata": {},
   "outputs": [
    {
     "data": {
      "text/html": [
       "<div>\n",
       "<style scoped>\n",
       "    .dataframe tbody tr th:only-of-type {\n",
       "        vertical-align: middle;\n",
       "    }\n",
       "\n",
       "    .dataframe tbody tr th {\n",
       "        vertical-align: top;\n",
       "    }\n",
       "\n",
       "    .dataframe thead th {\n",
       "        text-align: right;\n",
       "    }\n",
       "</style>\n",
       "<table border=\"1\" class=\"dataframe\">\n",
       "  <thead>\n",
       "    <tr style=\"text-align: right;\">\n",
       "      <th></th>\n",
       "      <th>image</th>\n",
       "      <th>result</th>\n",
       "      <th>answer</th>\n",
       "    </tr>\n",
       "  </thead>\n",
       "  <tbody>\n",
       "    <tr>\n",
       "      <th>0</th>\n",
       "      <td>SineTrials-3-800Hz-800Hz.xlsx-2.png</td>\n",
       "      <td>0</td>\n",
       "      <td>C)</td>\n",
       "    </tr>\n",
       "    <tr>\n",
       "      <th>1</th>\n",
       "      <td>SineTrials-14-300Hz-300Hz.xlsx-9.png</td>\n",
       "      <td>1</td>\n",
       "      <td>B)</td>\n",
       "    </tr>\n",
       "    <tr>\n",
       "      <th>2</th>\n",
       "      <td>SineTrials-12-800Hz-800Hz.xlsx-7.png</td>\n",
       "      <td>1</td>\n",
       "      <td>B)</td>\n",
       "    </tr>\n",
       "    <tr>\n",
       "      <th>3</th>\n",
       "      <td>SineTrials-7-500Hz-500Hz.xlsx-19.png</td>\n",
       "      <td>1</td>\n",
       "      <td>B)</td>\n",
       "    </tr>\n",
       "    <tr>\n",
       "      <th>4</th>\n",
       "      <td>SineTrials-3-900Hz-900Hz.xlsx-4.png</td>\n",
       "      <td>1</td>\n",
       "      <td>B)</td>\n",
       "    </tr>\n",
       "    <tr>\n",
       "      <th>...</th>\n",
       "      <td>...</td>\n",
       "      <td>...</td>\n",
       "      <td>...</td>\n",
       "    </tr>\n",
       "    <tr>\n",
       "      <th>1101</th>\n",
       "      <td>SineTrials-6-100Hz-100Hz.xlsx-4.png</td>\n",
       "      <td>1</td>\n",
       "      <td>B)</td>\n",
       "    </tr>\n",
       "    <tr>\n",
       "      <th>1102</th>\n",
       "      <td>SineTrials-12-700Hz-700Hz.xlsx-1.png</td>\n",
       "      <td>0</td>\n",
       "      <td>C)</td>\n",
       "    </tr>\n",
       "    <tr>\n",
       "      <th>1103</th>\n",
       "      <td>SineTrials-9-800Hz-800Hz.xlsx-15.png</td>\n",
       "      <td>0</td>\n",
       "      <td>C)</td>\n",
       "    </tr>\n",
       "    <tr>\n",
       "      <th>1104</th>\n",
       "      <td>SineTrials-4-600Hz-600Hz.xlsx-9.png</td>\n",
       "      <td>1</td>\n",
       "      <td>B)</td>\n",
       "    </tr>\n",
       "    <tr>\n",
       "      <th>1105</th>\n",
       "      <td>SineTrials-6-800Hz-800Hz.xlsx-12.png</td>\n",
       "      <td>1</td>\n",
       "      <td>B)</td>\n",
       "    </tr>\n",
       "  </tbody>\n",
       "</table>\n",
       "<p>1106 rows × 3 columns</p>\n",
       "</div>"
      ],
      "text/plain": [
       "                                     image  result answer\n",
       "0      SineTrials-3-800Hz-800Hz.xlsx-2.png       0     C)\n",
       "1     SineTrials-14-300Hz-300Hz.xlsx-9.png       1     B)\n",
       "2     SineTrials-12-800Hz-800Hz.xlsx-7.png       1     B)\n",
       "3     SineTrials-7-500Hz-500Hz.xlsx-19.png       1     B)\n",
       "4      SineTrials-3-900Hz-900Hz.xlsx-4.png       1     B)\n",
       "...                                    ...     ...    ...\n",
       "1101   SineTrials-6-100Hz-100Hz.xlsx-4.png       1     B)\n",
       "1102  SineTrials-12-700Hz-700Hz.xlsx-1.png       0     C)\n",
       "1103  SineTrials-9-800Hz-800Hz.xlsx-15.png       0     C)\n",
       "1104   SineTrials-4-600Hz-600Hz.xlsx-9.png       1     B)\n",
       "1105  SineTrials-6-800Hz-800Hz.xlsx-12.png       1     B)\n",
       "\n",
       "[1106 rows x 3 columns]"
      ]
     },
     "execution_count": 5,
     "metadata": {},
     "output_type": "execute_result"
    }
   ],
   "source": [
    "sineData"
   ]
  },
  {
   "cell_type": "code",
   "execution_count": 6,
   "id": "39b05612-3679-4208-99f8-f4de817ce6da",
   "metadata": {},
   "outputs": [],
   "source": [
    "sineData[\"frequency\"] = sineData['image'].str.extract(r\"(\\b\\d+)(?=Hz)\").astype(int)"
   ]
  },
  {
   "cell_type": "code",
   "execution_count": 7,
   "id": "8b6df4f3-594e-4284-a13e-1955e1f6cced",
   "metadata": {},
   "outputs": [
    {
     "data": {
      "text/html": [
       "<div>\n",
       "<style scoped>\n",
       "    .dataframe tbody tr th:only-of-type {\n",
       "        vertical-align: middle;\n",
       "    }\n",
       "\n",
       "    .dataframe tbody tr th {\n",
       "        vertical-align: top;\n",
       "    }\n",
       "\n",
       "    .dataframe thead th {\n",
       "        text-align: right;\n",
       "    }\n",
       "</style>\n",
       "<table border=\"1\" class=\"dataframe\">\n",
       "  <thead>\n",
       "    <tr style=\"text-align: right;\">\n",
       "      <th></th>\n",
       "      <th>image</th>\n",
       "      <th>result</th>\n",
       "      <th>answer</th>\n",
       "      <th>frequency</th>\n",
       "    </tr>\n",
       "  </thead>\n",
       "  <tbody>\n",
       "    <tr>\n",
       "      <th>0</th>\n",
       "      <td>SineTrials-3-800Hz-800Hz.xlsx-2.png</td>\n",
       "      <td>0</td>\n",
       "      <td>C)</td>\n",
       "      <td>800</td>\n",
       "    </tr>\n",
       "    <tr>\n",
       "      <th>1</th>\n",
       "      <td>SineTrials-14-300Hz-300Hz.xlsx-9.png</td>\n",
       "      <td>1</td>\n",
       "      <td>B)</td>\n",
       "      <td>300</td>\n",
       "    </tr>\n",
       "    <tr>\n",
       "      <th>2</th>\n",
       "      <td>SineTrials-12-800Hz-800Hz.xlsx-7.png</td>\n",
       "      <td>1</td>\n",
       "      <td>B)</td>\n",
       "      <td>800</td>\n",
       "    </tr>\n",
       "    <tr>\n",
       "      <th>3</th>\n",
       "      <td>SineTrials-7-500Hz-500Hz.xlsx-19.png</td>\n",
       "      <td>1</td>\n",
       "      <td>B)</td>\n",
       "      <td>500</td>\n",
       "    </tr>\n",
       "    <tr>\n",
       "      <th>4</th>\n",
       "      <td>SineTrials-3-900Hz-900Hz.xlsx-4.png</td>\n",
       "      <td>1</td>\n",
       "      <td>B)</td>\n",
       "      <td>900</td>\n",
       "    </tr>\n",
       "    <tr>\n",
       "      <th>...</th>\n",
       "      <td>...</td>\n",
       "      <td>...</td>\n",
       "      <td>...</td>\n",
       "      <td>...</td>\n",
       "    </tr>\n",
       "    <tr>\n",
       "      <th>1101</th>\n",
       "      <td>SineTrials-6-100Hz-100Hz.xlsx-4.png</td>\n",
       "      <td>1</td>\n",
       "      <td>B)</td>\n",
       "      <td>100</td>\n",
       "    </tr>\n",
       "    <tr>\n",
       "      <th>1102</th>\n",
       "      <td>SineTrials-12-700Hz-700Hz.xlsx-1.png</td>\n",
       "      <td>0</td>\n",
       "      <td>C)</td>\n",
       "      <td>700</td>\n",
       "    </tr>\n",
       "    <tr>\n",
       "      <th>1103</th>\n",
       "      <td>SineTrials-9-800Hz-800Hz.xlsx-15.png</td>\n",
       "      <td>0</td>\n",
       "      <td>C)</td>\n",
       "      <td>800</td>\n",
       "    </tr>\n",
       "    <tr>\n",
       "      <th>1104</th>\n",
       "      <td>SineTrials-4-600Hz-600Hz.xlsx-9.png</td>\n",
       "      <td>1</td>\n",
       "      <td>B)</td>\n",
       "      <td>600</td>\n",
       "    </tr>\n",
       "    <tr>\n",
       "      <th>1105</th>\n",
       "      <td>SineTrials-6-800Hz-800Hz.xlsx-12.png</td>\n",
       "      <td>1</td>\n",
       "      <td>B)</td>\n",
       "      <td>800</td>\n",
       "    </tr>\n",
       "  </tbody>\n",
       "</table>\n",
       "<p>1106 rows × 4 columns</p>\n",
       "</div>"
      ],
      "text/plain": [
       "                                     image  result answer  frequency\n",
       "0      SineTrials-3-800Hz-800Hz.xlsx-2.png       0     C)        800\n",
       "1     SineTrials-14-300Hz-300Hz.xlsx-9.png       1     B)        300\n",
       "2     SineTrials-12-800Hz-800Hz.xlsx-7.png       1     B)        800\n",
       "3     SineTrials-7-500Hz-500Hz.xlsx-19.png       1     B)        500\n",
       "4      SineTrials-3-900Hz-900Hz.xlsx-4.png       1     B)        900\n",
       "...                                    ...     ...    ...        ...\n",
       "1101   SineTrials-6-100Hz-100Hz.xlsx-4.png       1     B)        100\n",
       "1102  SineTrials-12-700Hz-700Hz.xlsx-1.png       0     C)        700\n",
       "1103  SineTrials-9-800Hz-800Hz.xlsx-15.png       0     C)        800\n",
       "1104   SineTrials-4-600Hz-600Hz.xlsx-9.png       1     B)        600\n",
       "1105  SineTrials-6-800Hz-800Hz.xlsx-12.png       1     B)        800\n",
       "\n",
       "[1106 rows x 4 columns]"
      ]
     },
     "execution_count": 7,
     "metadata": {},
     "output_type": "execute_result"
    }
   ],
   "source": [
    "sineData"
   ]
  },
  {
   "cell_type": "code",
   "execution_count": 8,
   "id": "30e0ab95-666f-42ae-b17a-fb15b5466494",
   "metadata": {},
   "outputs": [],
   "source": [
    "sineResults = sineData.groupby(\"frequency\")[\"result\"].mean()"
   ]
  },
  {
   "cell_type": "code",
   "execution_count": 9,
   "id": "2da89cf0-b3e1-449d-a01e-727111191da2",
   "metadata": {},
   "outputs": [
    {
     "data": {
      "text/plain": [
       "frequency\n",
       "1       0.766990\n",
       "100     0.707547\n",
       "200     0.903226\n",
       "300     0.776699\n",
       "400     0.709091\n",
       "500     0.760000\n",
       "600     0.797980\n",
       "700     0.785714\n",
       "800     0.735632\n",
       "900     0.796117\n",
       "1000    0.605769\n",
       "Name: result, dtype: float64"
      ]
     },
     "execution_count": 9,
     "metadata": {},
     "output_type": "execute_result"
    }
   ],
   "source": [
    "sineResults"
   ]
  },
  {
   "cell_type": "code",
   "execution_count": 10,
   "id": "1fb1d553-c500-4bf1-8561-1faef3d44854",
   "metadata": {
    "jupyter": {
     "source_hidden": true
    }
   },
   "outputs": [
    {
     "data": {
      "image/png": "[encoded data removed]",
      "text/plain": [
       "<Figure size 1000x600 with 1 Axes>"
      ]
     },
     "metadata": {},
     "output_type": "display_data"
    }
   ],
   "source": [
    "plt.figure(figsize=(10, 6))\n",
    "plt.bar(sineResults.index.astype(str), sineResults.values, color='skyblue', edgecolor='black')\n",
    "plt.xlabel('Frequency', fontsize=12)\n",
    "plt.ylabel('Value', fontsize=12)\n",
    "plt.title('Accuracy per category - Sine Wave', fontsize=14)\n",
    "plt.grid(axis='y', linestyle='--', alpha=0.7)\n",
    "plt.tight_layout()  # Adjust layout\n",
    "plt.show()"
   ]
  },
  {
   "cell_type": "markdown",
   "id": "9c45669a-d2d8-4fe8-b700-d9c27e36163f",
   "metadata": {},
   "source": [
    "## Square Waves"
   ]
  },
  {
   "cell_type": "code",
   "execution_count": 11,
   "id": "570def9c-0638-430c-8f59-124ac966b153",
   "metadata": {},
   "outputs": [],
   "source": [
    "squareData = pd.read_csv(\"results/squareWave.csv\")"
   ]
  },
  {
   "cell_type": "code",
   "execution_count": 12,
   "id": "bce61039-d559-4405-a3fc-dedb1fd2a9cc",
   "metadata": {},
   "outputs": [],
   "source": [
    "squareData[\"frequency\"] = squareData['image'].str.extract(r\"(\\b\\d+)(?=Hz)\").astype(int)"
   ]
  },
  {
   "cell_type": "code",
   "execution_count": 13,
   "id": "8fa4a2c8-8023-466a-bb12-e02d5cd915e3",
   "metadata": {},
   "outputs": [
    {
     "data": {
      "text/html": [
       "<div>\n",
       "<style scoped>\n",
       "    .dataframe tbody tr th:only-of-type {\n",
       "        vertical-align: middle;\n",
       "    }\n",
       "\n",
       "    .dataframe tbody tr th {\n",
       "        vertical-align: top;\n",
       "    }\n",
       "\n",
       "    .dataframe thead th {\n",
       "        text-align: right;\n",
       "    }\n",
       "</style>\n",
       "<table border=\"1\" class=\"dataframe\">\n",
       "  <thead>\n",
       "    <tr style=\"text-align: right;\">\n",
       "      <th></th>\n",
       "      <th>image</th>\n",
       "      <th>result</th>\n",
       "      <th>answer</th>\n",
       "      <th>frequency</th>\n",
       "    </tr>\n",
       "  </thead>\n",
       "  <tbody>\n",
       "    <tr>\n",
       "      <th>0</th>\n",
       "      <td>SquareTrials-10-200Hz-200Hz.xlsx-15.png</td>\n",
       "      <td>0</td>\n",
       "      <td>B)</td>\n",
       "      <td>200</td>\n",
       "    </tr>\n",
       "    <tr>\n",
       "      <th>1</th>\n",
       "      <td>SquareTrials-3-500Hz-500Hz.xlsx-2.png</td>\n",
       "      <td>0</td>\n",
       "      <td>A)</td>\n",
       "      <td>500</td>\n",
       "    </tr>\n",
       "    <tr>\n",
       "      <th>2</th>\n",
       "      <td>SquareTrials-10-400Hz-400Hz.xlsx-1.png</td>\n",
       "      <td>0</td>\n",
       "      <td>B)</td>\n",
       "      <td>400</td>\n",
       "    </tr>\n",
       "    <tr>\n",
       "      <th>3</th>\n",
       "      <td>SquareTrials-6-800Hz-800Hz.xlsx-2.png</td>\n",
       "      <td>1</td>\n",
       "      <td>C)</td>\n",
       "      <td>800</td>\n",
       "    </tr>\n",
       "    <tr>\n",
       "      <th>4</th>\n",
       "      <td>SquareTrials-3-100Hz-100Hz.xlsx-4.png</td>\n",
       "      <td>1</td>\n",
       "      <td>C)</td>\n",
       "      <td>100</td>\n",
       "    </tr>\n",
       "    <tr>\n",
       "      <th>...</th>\n",
       "      <td>...</td>\n",
       "      <td>...</td>\n",
       "      <td>...</td>\n",
       "      <td>...</td>\n",
       "    </tr>\n",
       "    <tr>\n",
       "      <th>1068</th>\n",
       "      <td>SquareTrials-13-100Hz-100Hz.xlsx-6.png</td>\n",
       "      <td>0</td>\n",
       "      <td>B)</td>\n",
       "      <td>100</td>\n",
       "    </tr>\n",
       "    <tr>\n",
       "      <th>1069</th>\n",
       "      <td>SquareTrials-13-300Hz-300Hz.xlsx-1.png</td>\n",
       "      <td>0</td>\n",
       "      <td>B)</td>\n",
       "      <td>300</td>\n",
       "    </tr>\n",
       "    <tr>\n",
       "      <th>1070</th>\n",
       "      <td>SquareTrials-10-500Hz-500Hz.xlsx-4.png</td>\n",
       "      <td>0</td>\n",
       "      <td>B)</td>\n",
       "      <td>500</td>\n",
       "    </tr>\n",
       "    <tr>\n",
       "      <th>1071</th>\n",
       "      <td>SquareTrials-10-600Hz-600Hz.xlsx-9.png</td>\n",
       "      <td>0</td>\n",
       "      <td>B)</td>\n",
       "      <td>600</td>\n",
       "    </tr>\n",
       "    <tr>\n",
       "      <th>1072</th>\n",
       "      <td>SquareTrials-2-300Hz-300Hz.xlsx-9.png</td>\n",
       "      <td>0</td>\n",
       "      <td>B)</td>\n",
       "      <td>300</td>\n",
       "    </tr>\n",
       "  </tbody>\n",
       "</table>\n",
       "<p>1073 rows × 4 columns</p>\n",
       "</div>"
      ],
      "text/plain": [
       "                                        image  result answer  frequency\n",
       "0     SquareTrials-10-200Hz-200Hz.xlsx-15.png       0     B)        200\n",
       "1       SquareTrials-3-500Hz-500Hz.xlsx-2.png       0     A)        500\n",
       "2      SquareTrials-10-400Hz-400Hz.xlsx-1.png       0     B)        400\n",
       "3       SquareTrials-6-800Hz-800Hz.xlsx-2.png       1     C)        800\n",
       "4       SquareTrials-3-100Hz-100Hz.xlsx-4.png       1     C)        100\n",
       "...                                       ...     ...    ...        ...\n",
       "1068   SquareTrials-13-100Hz-100Hz.xlsx-6.png       0     B)        100\n",
       "1069   SquareTrials-13-300Hz-300Hz.xlsx-1.png       0     B)        300\n",
       "1070   SquareTrials-10-500Hz-500Hz.xlsx-4.png       0     B)        500\n",
       "1071   SquareTrials-10-600Hz-600Hz.xlsx-9.png       0     B)        600\n",
       "1072    SquareTrials-2-300Hz-300Hz.xlsx-9.png       0     B)        300\n",
       "\n",
       "[1073 rows x 4 columns]"
      ]
     },
     "execution_count": 13,
     "metadata": {},
     "output_type": "execute_result"
    }
   ],
   "source": [
    "squareData"
   ]
  },
  {
   "cell_type": "code",
   "execution_count": 14,
   "id": "3af09741-02a3-4407-b36f-b56776f42a0c",
   "metadata": {},
   "outputs": [],
   "source": [
    "squareResults = squareData.groupby([\"frequency\"])[\"result\"].mean()"
   ]
  },
  {
   "cell_type": "code",
   "execution_count": 15,
   "id": "2de2bd92-5cd3-42ed-9fec-9bfe89561a3d",
   "metadata": {},
   "outputs": [
    {
     "data": {
      "image/png": "[encoded data removed]",
      "text/plain": [
       "<Figure size 1000x600 with 1 Axes>"
      ]
     },
     "metadata": {},
     "output_type": "display_data"
    }
   ],
   "source": [
    "plt.figure(figsize=(10, 6))\n",
    "plt.bar(squareResults.index.astype(str), squareResults.values, color='skyblue', edgecolor='black')\n",
    "plt.xlabel('Frequency', fontsize=12)\n",
    "plt.ylabel('Value', fontsize=12)\n",
    "plt.title('Accuracy per category - Square Wave', fontsize=14)\n",
    "plt.grid(axis='y', linestyle='--', alpha=0.7)\n",
    "plt.tight_layout()  # Adjust layout\n",
    "plt.show()"
   ]
  }
 ],
 "metadata": {
  "kernelspec": {
   "display_name": "Python 3 (ipykernel)",
   "language": "python",
   "name": "python3"
  },
  "language_info": {
   "codemirror_mode": {
    "name": "ipython",
    "version": 3
   },
   "file_extension": ".py",
   "mimetype": "text/x-python",
   "name": "python",
   "nbconvert_exporter": "python",
   "pygments_lexer": "ipython3",
   "version": "3.12.8"
  }
 },
 "nbformat": 4,
 "nbformat_minor": 5
}
