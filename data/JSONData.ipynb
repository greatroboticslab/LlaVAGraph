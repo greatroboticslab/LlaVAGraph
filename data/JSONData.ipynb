{
 "cells": [
  {
   "cell_type": "markdown",
   "id": "6297b124-fe83-4c66-8d44-86d6201759fe",
   "metadata": {},
   "source": [
    "# LLaVA Dataset Generation"
   ]
  },
  {
   "cell_type": "code",
   "execution_count": 1,
   "id": "9de480ba-9674-4084-aea3-641a8a103da6",
   "metadata": {},
   "outputs": [],
   "source": [
    "import json\n",
    "import random\n",
    "import os"
   ]
  },
  {
   "cell_type": "markdown",
   "id": "d859444e-6a7a-48c1-a48b-715a0040da85",
   "metadata": {},
   "source": [
    "## Setup the Paths"
   ]
  },
  {
   "cell_type": "code",
   "execution_count": 2,
   "id": "d00069a5-e9a7-42f7-9d4a-87a290f6fd24",
   "metadata": {},
   "outputs": [],
   "source": [
    "uniqueId = 1"
   ]
  },
  {
   "cell_type": "code",
   "execution_count": 3,
   "id": "3c66cdfc-5a35-4c23-954e-1846e45d5e4b",
   "metadata": {},
   "outputs": [],
   "source": [
    "RANDOM_NOISE = \"textData/random-sentences.txt\"\n",
    "SINE_WAVE = \"textData/sine-sentences.txt\"\n",
    "SQUARE_WAVE = \"textData/square-sentences.txt\""
   ]
  },
  {
   "cell_type": "code",
   "execution_count": 4,
   "id": "f7a1d56f-07bd-469f-a7c3-8464157bd690",
   "metadata": {},
   "outputs": [],
   "source": [
    "data = []"
   ]
  },
  {
   "cell_type": "markdown",
   "id": "68268ddd-0c31-4cc5-9c02-9da22becde4a",
   "metadata": {},
   "source": [
    "## Random Noise"
   ]
  },
  {
   "cell_type": "code",
   "execution_count": 5,
   "id": "9a7fdf8e-a5a7-4439-a547-07af1448938c",
   "metadata": {},
   "outputs": [],
   "source": [
    "with open(RANDOM_NOISE, \"r\") as file:\n",
    "    randomOptions = file.read().splitlines()"
   ]
  },
  {
   "cell_type": "code",
   "execution_count": 6,
   "id": "e2f79223-b159-4a05-b3f9-92c121d2f24c",
   "metadata": {},
   "outputs": [],
   "source": [
    "for file in os.listdir(\"subset/trainData/NoiseData\"):\n",
    "    json_data = {\n",
    "        \"id\": uniqueId,\n",
    "        \"image\": f\"subset/trainData/NoiseData/{file}\",\n",
    "        \"conversations\": [\n",
    "            {\n",
    "                \"from\": \"human\",\n",
    "                \"value\": \"<image>\\n What is this graph showing? Options: A. Random Noise Wave B. Sine Wave C. Square Wave\"\n",
    "            },\n",
    "            {\n",
    "                \"from\": \"gpt\",\n",
    "                \"value\": f\"Answer: A.\\nExplanation: {random.choice(randomOptions)}\"\n",
    "            }\n",
    "             \n",
    "        ]\n",
    "    }\n",
    "    data.append(json_data)\n",
    "    uniqueId += 1"
   ]
  },
  {
   "cell_type": "markdown",
   "id": "e15f3ff3-f01d-4232-8be2-2b3c67ae836e",
   "metadata": {},
   "source": [
    "## Sine Wave"
   ]
  },
  {
   "cell_type": "code",
   "execution_count": 7,
   "id": "d56d48be-669d-4b76-8cb4-ca1e4d48cf68",
   "metadata": {},
   "outputs": [],
   "source": [
    "with open(SINE_WAVE, \"r\") as file:\n",
    "    sineOptions = file.read().splitlines()"
   ]
  },
  {
   "cell_type": "code",
   "execution_count": 8,
   "id": "41e2e0a0-6a5f-4881-a76f-8ecd4327072a",
   "metadata": {},
   "outputs": [],
   "source": [
    "for file in os.listdir(\"subset/trainData/SineData\"):\n",
    "    json_data = {\n",
    "        \"id\": uniqueId,\n",
    "        \"image\": f\"subset/trainData/SineData/{file}\",\n",
    "        \"conversations\": [\n",
    "            {\n",
    "                \"from\": \"human\",\n",
    "                \"value\": \"<image>\\n What is this graph showing? Options: A. Random Noise Wave B. Sine Wave C. Square Wave\"\n",
    "            },\n",
    "            {\n",
    "                \"from\": \"gpt\",\n",
    "                \"value\": f\"Answer: B.\\nExplanation: {random.choice(sineOptions)}\"\n",
    "            }\n",
    "             \n",
    "        ]\n",
    "    }\n",
    "    data.append(json_data)\n",
    "    uniqueId += 1"
   ]
  },
  {
   "cell_type": "markdown",
   "id": "30d78058-444a-4157-92ee-760463fa1c86",
   "metadata": {},
   "source": [
    "## Square Wave"
   ]
  },
  {
   "cell_type": "code",
   "execution_count": 9,
   "id": "4958906d-0a68-45b9-ae10-b32a9733c988",
   "metadata": {},
   "outputs": [],
   "source": [
    "with open(SQUARE_WAVE, \"r\") as file:\n",
    "    squareOptions = file.read().splitlines()"
   ]
  },
  {
   "cell_type": "code",
   "execution_count": 10,
   "id": "988a78a9-322f-4df4-9329-6518c2483ff1",
   "metadata": {},
   "outputs": [],
   "source": [
    "for file in os.listdir(\"subset/trainData/SquareData\"):\n",
    "    json_data = {\n",
    "        \"id\": uniqueId,\n",
    "        \"image\": f\"subset/trainData/SquareData/{file}\",\n",
    "        \"conversations\": [\n",
    "            {\n",
    "                \"from\": \"human\",\n",
    "                \"value\": \"<image>\\n What is this graph showing? Options: A. Random Noise Wave B. Sine Wave C. Square Wave\"\n",
    "            },\n",
    "            {\n",
    "                \"from\": \"gpt\",\n",
    "                \"value\": f\"Answer: C.\\nExplanation: {random.choice(squareOptions)}\"\n",
    "            }\n",
    "             \n",
    "        ]\n",
    "    }\n",
    "    data.append(json_data)\n",
    "    uniqueId += 1"
   ]
  },
  {
   "cell_type": "markdown",
   "id": "4d6435f1-25b4-43bf-b33d-1c27569ee526",
   "metadata": {},
   "source": [
    "## Output"
   ]
  },
  {
   "cell_type": "code",
   "execution_count": 11,
   "id": "e0c485e1-b6e2-4494-8a5a-ac4d93a83f57",
   "metadata": {},
   "outputs": [],
   "source": [
    "with open(\"subsetData.json\", \"w\") as outputFile:\n",
    "    json.dump(data, outputFile, indent=2)"
   ]
  },
  {
   "cell_type": "code",
   "execution_count": null,
   "id": "6249cace-987b-46f0-8a8e-6f8dfbfefac4",
   "metadata": {},
   "outputs": [],
   "source": []
  }
 ],
 "metadata": {
  "kernelspec": {
   "display_name": "Python 3 (ipykernel)",
   "language": "python",
   "name": "python3"
  },
  "language_info": {
   "codemirror_mode": {
    "name": "ipython",
    "version": 3
   },
   "file_extension": ".py",
   "mimetype": "text/x-python",
   "name": "python",
   "nbconvert_exporter": "python",
   "pygments_lexer": "ipython3",
   "version": "3.8.10"
  }
 },
 "nbformat": 4,
 "nbformat_minor": 5
}
